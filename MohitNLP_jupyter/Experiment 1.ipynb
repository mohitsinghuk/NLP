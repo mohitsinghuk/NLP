{
 "cells": [
  {
   "cell_type": "code",
   "execution_count": 1,
   "metadata": {
    "colab": {
     "base_uri": "https://localhost:8080/"
    },
    "executionInfo": {
     "elapsed": 22938,
     "status": "ok",
     "timestamp": 1714012714021,
     "user": {
      "displayName": "Mohit Singh",
      "userId": "05182115082633421780"
     },
     "user_tz": -60
    },
    "id": "XHLuJK2pHawe",
    "outputId": "ddd82c33-9928-4e67-958e-e49f56c8b79f"
   },
   "outputs": [
    {
     "name": "stdout",
     "output_type": "stream",
     "text": [
      "Defaulting to user installation because normal site-packages is not writeable\n",
      "Requirement already satisfied: datasets in /user/HS400/ms04010/.local/lib/python3.10/site-packages (2.18.0)\n",
      "Requirement already satisfied: pyyaml>=5.1 in /usr/lib/python3/dist-packages (from datasets) (5.4.1)\n",
      "Requirement already satisfied: tqdm>=4.62.1 in /user/HS400/ms04010/.local/lib/python3.10/site-packages (from datasets) (4.66.2)\n",
      "Requirement already satisfied: huggingface-hub>=0.19.4 in /user/HS400/ms04010/.local/lib/python3.10/site-packages (from datasets) (0.22.2)\n",
      "Requirement already satisfied: filelock in /user/HS400/ms04010/.local/lib/python3.10/site-packages (from datasets) (3.13.4)\n",
      "Requirement already satisfied: xxhash in /user/HS400/ms04010/.local/lib/python3.10/site-packages (from datasets) (3.4.1)\n",
      "Requirement already satisfied: fsspec[http]<=2024.2.0,>=2023.1.0 in /user/HS400/ms04010/.local/lib/python3.10/site-packages (from datasets) (2024.2.0)\n",
      "Requirement already satisfied: aiohttp in /user/HS400/ms04010/.local/lib/python3.10/site-packages (from datasets) (3.9.4)\n",
      "Requirement already satisfied: pandas in /usr/local/lib/python3.10/dist-packages (from datasets) (2.1.1)\n",
      "Requirement already satisfied: pyarrow-hotfix in /user/HS400/ms04010/.local/lib/python3.10/site-packages (from datasets) (0.6)\n",
      "Requirement already satisfied: multiprocess in /user/HS400/ms04010/.local/lib/python3.10/site-packages (from datasets) (0.70.16)\n",
      "Requirement already satisfied: pyarrow>=12.0.0 in /user/HS400/ms04010/.local/lib/python3.10/site-packages (from datasets) (15.0.2)\n",
      "Requirement already satisfied: packaging in /usr/lib/python3/dist-packages (from datasets) (21.3)\n",
      "Requirement already satisfied: numpy>=1.17 in /usr/local/lib/python3.10/dist-packages (from datasets) (1.26.1)\n",
      "Requirement already satisfied: dill<0.3.9,>=0.3.0 in /user/HS400/ms04010/.local/lib/python3.10/site-packages (from datasets) (0.3.8)\n",
      "Requirement already satisfied: requests>=2.19.0 in /usr/local/lib/python3.10/dist-packages (from datasets) (2.31.0)\n",
      "Requirement already satisfied: aiosignal>=1.1.2 in /user/HS400/ms04010/.local/lib/python3.10/site-packages (from aiohttp->datasets) (1.3.1)\n",
      "Requirement already satisfied: yarl<2.0,>=1.0 in /user/HS400/ms04010/.local/lib/python3.10/site-packages (from aiohttp->datasets) (1.9.4)\n",
      "Requirement already satisfied: attrs>=17.3.0 in /usr/local/lib/python3.10/dist-packages (from aiohttp->datasets) (23.1.0)\n",
      "Requirement already satisfied: async-timeout<5.0,>=4.0 in /user/HS400/ms04010/.local/lib/python3.10/site-packages (from aiohttp->datasets) (4.0.3)\n",
      "Requirement already satisfied: frozenlist>=1.1.1 in /user/HS400/ms04010/.local/lib/python3.10/site-packages (from aiohttp->datasets) (1.4.1)\n",
      "Requirement already satisfied: multidict<7.0,>=4.5 in /user/HS400/ms04010/.local/lib/python3.10/site-packages (from aiohttp->datasets) (6.0.5)\n",
      "Requirement already satisfied: typing-extensions>=3.7.4.3 in /usr/local/lib/python3.10/dist-packages (from huggingface-hub>=0.19.4->datasets) (4.8.0)\n",
      "Requirement already satisfied: urllib3<3,>=1.21.1 in /usr/lib/python3/dist-packages (from requests>=2.19.0->datasets) (1.26.5)\n",
      "Requirement already satisfied: idna<4,>=2.5 in /usr/lib/python3/dist-packages (from requests>=2.19.0->datasets) (3.3)\n",
      "Requirement already satisfied: certifi>=2017.4.17 in /usr/lib/python3/dist-packages (from requests>=2.19.0->datasets) (2020.6.20)\n",
      "Requirement already satisfied: charset-normalizer<4,>=2 in /usr/local/lib/python3.10/dist-packages (from requests>=2.19.0->datasets) (3.3.0)\n",
      "Requirement already satisfied: tzdata>=2022.1 in /usr/local/lib/python3.10/dist-packages (from pandas->datasets) (2023.3)\n",
      "Requirement already satisfied: pytz>=2020.1 in /usr/lib/python3/dist-packages (from pandas->datasets) (2022.1)\n",
      "Requirement already satisfied: python-dateutil>=2.8.2 in /usr/local/lib/python3.10/dist-packages (from pandas->datasets) (2.8.2)\n",
      "Requirement already satisfied: six>=1.5 in /usr/lib/python3/dist-packages (from python-dateutil>=2.8.2->pandas->datasets) (1.16.0)\n",
      "Note: you may need to restart the kernel to use updated packages.\n",
      "Defaulting to user installation because normal site-packages is not writeable\n",
      "Requirement already satisfied: tensorflow in /user/HS400/ms04010/.local/lib/python3.10/site-packages (2.16.1)\n",
      "Requirement already satisfied: protobuf!=4.21.0,!=4.21.1,!=4.21.2,!=4.21.3,!=4.21.4,!=4.21.5,<5.0.0dev,>=3.20.3 in /user/HS400/ms04010/.local/lib/python3.10/site-packages (from tensorflow) (4.25.3)\n",
      "Requirement already satisfied: tensorboard<2.17,>=2.16 in /user/HS400/ms04010/.local/lib/python3.10/site-packages (from tensorflow) (2.16.2)\n",
      "Requirement already satisfied: google-pasta>=0.1.1 in /user/HS400/ms04010/.local/lib/python3.10/site-packages (from tensorflow) (0.2.0)\n",
      "Requirement already satisfied: termcolor>=1.1.0 in /user/HS400/ms04010/.local/lib/python3.10/site-packages (from tensorflow) (2.4.0)\n",
      "Requirement already satisfied: six>=1.12.0 in /usr/lib/python3/dist-packages (from tensorflow) (1.16.0)\n",
      "Requirement already satisfied: wrapt>=1.11.0 in /user/HS400/ms04010/.local/lib/python3.10/site-packages (from tensorflow) (1.16.0)\n",
      "Requirement already satisfied: setuptools in /usr/lib/python3/dist-packages (from tensorflow) (59.6.0)\n",
      "Requirement already satisfied: ml-dtypes~=0.3.1 in /user/HS400/ms04010/.local/lib/python3.10/site-packages (from tensorflow) (0.3.2)\n",
      "Requirement already satisfied: numpy<2.0.0,>=1.23.5 in /usr/local/lib/python3.10/dist-packages (from tensorflow) (1.26.1)\n",
      "Requirement already satisfied: h5py>=3.10.0 in /user/HS400/ms04010/.local/lib/python3.10/site-packages (from tensorflow) (3.11.0)\n",
      "Requirement already satisfied: packaging in /usr/lib/python3/dist-packages (from tensorflow) (21.3)\n",
      "Requirement already satisfied: grpcio<2.0,>=1.24.3 in /user/HS400/ms04010/.local/lib/python3.10/site-packages (from tensorflow) (1.62.2)\n",
      "Requirement already satisfied: typing-extensions>=3.6.6 in /usr/local/lib/python3.10/dist-packages (from tensorflow) (4.8.0)\n",
      "Requirement already satisfied: absl-py>=1.0.0 in /user/HS400/ms04010/.local/lib/python3.10/site-packages (from tensorflow) (2.1.0)\n",
      "Requirement already satisfied: requests<3,>=2.21.0 in /usr/local/lib/python3.10/dist-packages (from tensorflow) (2.31.0)\n",
      "Requirement already satisfied: astunparse>=1.6.0 in /user/HS400/ms04010/.local/lib/python3.10/site-packages (from tensorflow) (1.6.3)\n",
      "Requirement already satisfied: keras>=3.0.0 in /user/HS400/ms04010/.local/lib/python3.10/site-packages (from tensorflow) (3.3.2)\n",
      "Requirement already satisfied: libclang>=13.0.0 in /user/HS400/ms04010/.local/lib/python3.10/site-packages (from tensorflow) (18.1.1)\n",
      "Requirement already satisfied: opt-einsum>=2.3.2 in /user/HS400/ms04010/.local/lib/python3.10/site-packages (from tensorflow) (3.3.0)\n",
      "Requirement already satisfied: flatbuffers>=23.5.26 in /user/HS400/ms04010/.local/lib/python3.10/site-packages (from tensorflow) (24.3.25)\n",
      "Requirement already satisfied: tensorflow-io-gcs-filesystem>=0.23.1 in /user/HS400/ms04010/.local/lib/python3.10/site-packages (from tensorflow) (0.36.0)\n",
      "Requirement already satisfied: gast!=0.5.0,!=0.5.1,!=0.5.2,>=0.2.1 in /user/HS400/ms04010/.local/lib/python3.10/site-packages (from tensorflow) (0.5.4)\n",
      "Requirement already satisfied: wheel<1.0,>=0.23.0 in /usr/lib/python3/dist-packages (from astunparse>=1.6.0->tensorflow) (0.37.1)\n",
      "Requirement already satisfied: optree in /user/HS400/ms04010/.local/lib/python3.10/site-packages (from keras>=3.0.0->tensorflow) (0.11.0)\n",
      "Requirement already satisfied: namex in /user/HS400/ms04010/.local/lib/python3.10/site-packages (from keras>=3.0.0->tensorflow) (0.0.8)\n",
      "Requirement already satisfied: rich in /user/HS400/ms04010/.local/lib/python3.10/site-packages (from keras>=3.0.0->tensorflow) (13.7.1)\n",
      "Requirement already satisfied: urllib3<3,>=1.21.1 in /usr/lib/python3/dist-packages (from requests<3,>=2.21.0->tensorflow) (1.26.5)\n",
      "Requirement already satisfied: charset-normalizer<4,>=2 in /usr/local/lib/python3.10/dist-packages (from requests<3,>=2.21.0->tensorflow) (3.3.0)\n",
      "Requirement already satisfied: certifi>=2017.4.17 in /usr/lib/python3/dist-packages (from requests<3,>=2.21.0->tensorflow) (2020.6.20)\n",
      "Requirement already satisfied: idna<4,>=2.5 in /usr/lib/python3/dist-packages (from requests<3,>=2.21.0->tensorflow) (3.3)\n",
      "Requirement already satisfied: markdown>=2.6.8 in /user/HS400/ms04010/.local/lib/python3.10/site-packages (from tensorboard<2.17,>=2.16->tensorflow) (3.6)\n",
      "Requirement already satisfied: werkzeug>=1.0.1 in /user/HS400/ms04010/.local/lib/python3.10/site-packages (from tensorboard<2.17,>=2.16->tensorflow) (3.0.1)\n",
      "Requirement already satisfied: tensorboard-data-server<0.8.0,>=0.7.0 in /user/HS400/ms04010/.local/lib/python3.10/site-packages (from tensorboard<2.17,>=2.16->tensorflow) (0.7.2)\n",
      "Requirement already satisfied: MarkupSafe>=2.1.1 in /user/HS400/ms04010/.local/lib/python3.10/site-packages (from werkzeug>=1.0.1->tensorboard<2.17,>=2.16->tensorflow) (2.1.5)\n",
      "Requirement already satisfied: markdown-it-py>=2.2.0 in /user/HS400/ms04010/.local/lib/python3.10/site-packages (from rich->keras>=3.0.0->tensorflow) (3.0.0)\n",
      "Requirement already satisfied: pygments<3.0.0,>=2.13.0 in /user/HS400/ms04010/.local/lib/python3.10/site-packages (from rich->keras>=3.0.0->tensorflow) (2.17.2)\n",
      "Requirement already satisfied: mdurl~=0.1 in /user/HS400/ms04010/.local/lib/python3.10/site-packages (from markdown-it-py>=2.2.0->rich->keras>=3.0.0->tensorflow) (0.1.2)\n",
      "Note: you may need to restart the kernel to use updated packages.\n",
      "Defaulting to user installation because normal site-packages is not writeable\n",
      "Requirement already satisfied: sentencepiece in /user/HS400/ms04010/.local/lib/python3.10/site-packages (0.2.0)\n"
     ]
    }
   ],
   "source": [
    "%pip install datasets\n",
    "%pip install tensorflow\n",
    "!pip install sentencepiece"
   ]
  },
  {
   "cell_type": "markdown",
   "metadata": {},
   "source": [
    "## RNN with BI-LSTM"
   ]
  },
  {
   "cell_type": "code",
   "execution_count": 2,
   "metadata": {
    "executionInfo": {
     "elapsed": 234,
     "status": "ok",
     "timestamp": 1714015412279,
     "user": {
      "displayName": "Mohit Singh",
      "userId": "05182115082633421780"
     },
     "user_tz": -60
    },
    "id": "sP9OZV-QQpxB"
   },
   "outputs": [
    {
     "name": "stderr",
     "output_type": "stream",
     "text": [
      "2024-04-26 05:03:50.997299: I tensorflow/core/platform/cpu_feature_guard.cc:210] This TensorFlow binary is optimized to use available CPU instructions in performance-critical operations.\n",
      "To enable the following instructions: AVX2 FMA, in other operations, rebuild TensorFlow with the appropriate compiler flags.\n",
      "2024-04-26 05:04:10.784813: W tensorflow/compiler/tf2tensorrt/utils/py_utils.cc:38] TF-TRT Warning: Could not find TensorRT\n"
     ]
    }
   ],
   "source": [
    "import numpy as np\n",
    "import tensorflow as tf\n",
    "from datasets import load_dataset\n",
    "from sklearn.metrics import confusion_matrix, classification_report, roc_curve, auc\n",
    "import seaborn as sns\n",
    "import matplotlib.pyplot as plt"
   ]
  },
  {
   "cell_type": "code",
   "execution_count": 3,
   "metadata": {
    "colab": {
     "base_uri": "https://localhost:8080/"
    },
    "executionInfo": {
     "elapsed": 162267,
     "status": "ok",
     "timestamp": 1714014882229,
     "user": {
      "displayName": "Mohit Singh",
      "userId": "05182115082633421780"
     },
     "user_tz": -60
    },
    "id": "w1AyJI-PHhcG",
    "outputId": "581c0eeb-6ff2-4d47-c5db-6ac51fcce4af"
   },
   "outputs": [
    {
     "name": "stdout",
     "output_type": "stream",
     "text": [
      "Epoch 1/10\n"
     ]
    },
    {
     "name": "stderr",
     "output_type": "stream",
     "text": [
      "/user/HS400/ms04010/.local/lib/python3.10/site-packages/keras/src/layers/core/embedding.py:90: UserWarning: Argument `input_length` is deprecated. Just remove it.\n",
      "  warnings.warn(\n",
      "2024-04-26 05:04:41.277242: E external/local_xla/xla/stream_executor/cuda/cuda_driver.cc:282] failed call to cuInit: CUDA_ERROR_NO_DEVICE: no CUDA-capable device is detected\n"
     ]
    },
    {
     "name": "stdout",
     "output_type": "stream",
     "text": [
      "\u001b[1m34/34\u001b[0m \u001b[32m━━━━━━━━━━━━━━━━━━━━\u001b[0m\u001b[37m\u001b[0m \u001b[1m24s\u001b[0m 292ms/step - accuracy: 0.9415 - loss: 0.3712\n",
      "Epoch 2/10\n",
      "\u001b[1m34/34\u001b[0m \u001b[32m━━━━━━━━━━━━━━━━━━━━\u001b[0m\u001b[37m\u001b[0m \u001b[1m10s\u001b[0m 281ms/step - accuracy: 0.9798 - loss: 0.0761\n",
      "Epoch 3/10\n",
      "\u001b[1m34/34\u001b[0m \u001b[32m━━━━━━━━━━━━━━━━━━━━\u001b[0m\u001b[37m\u001b[0m \u001b[1m10s\u001b[0m 280ms/step - accuracy: 0.9797 - loss: 0.0681\n",
      "Epoch 4/10\n",
      "\u001b[1m34/34\u001b[0m \u001b[32m━━━━━━━━━━━━━━━━━━━━\u001b[0m\u001b[37m\u001b[0m \u001b[1m10s\u001b[0m 283ms/step - accuracy: 0.9801 - loss: 0.0597\n",
      "Epoch 5/10\n",
      "\u001b[1m34/34\u001b[0m \u001b[32m━━━━━━━━━━━━━━━━━━━━\u001b[0m\u001b[37m\u001b[0m \u001b[1m10s\u001b[0m 280ms/step - accuracy: 0.9814 - loss: 0.0488\n",
      "Epoch 6/10\n",
      "\u001b[1m34/34\u001b[0m \u001b[32m━━━━━━━━━━━━━━━━━━━━\u001b[0m\u001b[37m\u001b[0m \u001b[1m10s\u001b[0m 281ms/step - accuracy: 0.9861 - loss: 0.0396\n",
      "Epoch 7/10\n",
      "\u001b[1m34/34\u001b[0m \u001b[32m━━━━━━━━━━━━━━━━━━━━\u001b[0m\u001b[37m\u001b[0m \u001b[1m10s\u001b[0m 284ms/step - accuracy: 0.9895 - loss: 0.0307\n",
      "Epoch 8/10\n",
      "\u001b[1m34/34\u001b[0m \u001b[32m━━━━━━━━━━━━━━━━━━━━\u001b[0m\u001b[37m\u001b[0m \u001b[1m10s\u001b[0m 285ms/step - accuracy: 0.9928 - loss: 0.0228\n",
      "Epoch 9/10\n",
      "\u001b[1m34/34\u001b[0m \u001b[32m━━━━━━━━━━━━━━━━━━━━\u001b[0m\u001b[37m\u001b[0m \u001b[1m10s\u001b[0m 282ms/step - accuracy: 0.9954 - loss: 0.0164\n",
      "Epoch 10/10\n",
      "\u001b[1m34/34\u001b[0m \u001b[32m━━━━━━━━━━━━━━━━━━━━\u001b[0m\u001b[37m\u001b[0m \u001b[1m10s\u001b[0m 282ms/step - accuracy: 0.9967 - loss: 0.0129\n",
      "\u001b[1m5/5\u001b[0m \u001b[32m━━━━━━━━━━━━━━━━━━━━\u001b[0m\u001b[37m\u001b[0m \u001b[1m3s\u001b[0m 39ms/step - accuracy: 0.9703 - loss: 0.2292\n",
      "Test Loss: 0.21765995025634766\n",
      "Test Accuracy: 0.9710839986801147\n"
     ]
    }
   ],
   "source": [
    "import numpy as np\n",
    "import tensorflow as tf\n",
    "from datasets import load_dataset\n",
    "\n",
    "# Load dataset\n",
    "dataset = load_dataset(\"surrey-nlp/PLOD-CW\")\n",
    "\n",
    "# Extract training and test data\n",
    "train_data = dataset[\"train\"]\n",
    "test_data = dataset[\"test\"]\n",
    "\n",
    "# Tokenization\n",
    "tokenizer = tf.keras.preprocessing.text.Tokenizer()\n",
    "tokenizer.fit_on_texts(train_data[\"tokens\"])\n",
    "\n",
    "# Convert text data to sequences\n",
    "train_sequences = tokenizer.texts_to_sequences(train_data[\"tokens\"])\n",
    "test_sequences = tokenizer.texts_to_sequences(test_data[\"tokens\"])\n",
    "\n",
    "# Pad sequences\n",
    "max_sequence_length = max([len(seq) for seq in train_sequences + test_sequences])\n",
    "train_sequences = tf.keras.preprocessing.sequence.pad_sequences(train_sequences, maxlen=max_sequence_length)\n",
    "test_sequences = tf.keras.preprocessing.sequence.pad_sequences(test_sequences, maxlen=max_sequence_length)\n",
    "\n",
    "# Convert POS tags and NER tags to one-hot encodings\n",
    "train_pos_tags = train_data[\"pos_tags\"]\n",
    "train_ner_tags = train_data[\"ner_tags\"]\n",
    "test_pos_tags = test_data[\"pos_tags\"]\n",
    "test_ner_tags = test_data[\"ner_tags\"]\n",
    "\n",
    "# Flatten the list of lists\n",
    "flat_pos_tags = [tag for sublist in train_pos_tags + test_pos_tags for tag in sublist]\n",
    "flat_ner_tags = [tag for sublist in train_ner_tags + test_ner_tags for tag in sublist]\n",
    "\n",
    "# Get unique POS and NER tags\n",
    "unique_pos_tags = set(flat_pos_tags)\n",
    "unique_ner_tags = set(flat_ner_tags)\n",
    "\n",
    "# Create dictionaries for mapping tags to integers and vice versa\n",
    "pos_tag_to_int = {tag: i for i, tag in enumerate(unique_pos_tags)}\n",
    "ner_tag_to_int = {tag: i for i, tag in enumerate(unique_ner_tags)}\n",
    "int_to_pos_tag = {i: tag for tag, i in pos_tag_to_int.items()}\n",
    "int_to_ner_tag = {i: tag for tag, i in ner_tag_to_int.items()}\n",
    "\n",
    "# Convert tags to integers\n",
    "train_pos_tags_int = [[pos_tag_to_int[tag] for tag in seq] for seq in train_pos_tags]\n",
    "train_ner_tags_int = [[ner_tag_to_int[tag] for tag in seq] for seq in train_ner_tags]\n",
    "test_pos_tags_int = [[pos_tag_to_int[tag] for tag in seq] for seq in test_pos_tags]\n",
    "test_ner_tags_int = [[ner_tag_to_int[tag] for tag in seq] for seq in test_ner_tags]\n",
    "\n",
    "# Pad tag sequences\n",
    "train_pos_tags_padded = tf.keras.preprocessing.sequence.pad_sequences(train_pos_tags_int, maxlen=max_sequence_length)\n",
    "train_ner_tags_padded = tf.keras.preprocessing.sequence.pad_sequences(train_ner_tags_int, maxlen=max_sequence_length)\n",
    "test_pos_tags_padded = tf.keras.preprocessing.sequence.pad_sequences(test_pos_tags_int, maxlen=max_sequence_length)\n",
    "test_ner_tags_padded = tf.keras.preprocessing.sequence.pad_sequences(test_ner_tags_int, maxlen=max_sequence_length)\n",
    "\n",
    "# Define the RNN model\n",
    "model = tf.keras.Sequential([\n",
    "    tf.keras.layers.Embedding(input_dim=len(tokenizer.word_index) + 1, output_dim=128, input_length=max_sequence_length),\n",
    "    tf.keras.layers.Bidirectional(tf.keras.layers.LSTM(64, return_sequences=True)),\n",
    "    tf.keras.layers.TimeDistributed(tf.keras.layers.Dense(len(unique_ner_tags), activation='softmax'))\n",
    "])\n",
    "\n",
    "# Compile the model\n",
    "model.compile(optimizer='adam', loss='categorical_crossentropy', metrics=['accuracy'])\n",
    "\n",
    "# One-hot encode NER tags\n",
    "train_ner_tags_one_hot = tf.keras.utils.to_categorical(train_ner_tags_padded, num_classes=len(unique_ner_tags))\n",
    "\n",
    "# Train the model\n",
    "model.fit(train_sequences, train_ner_tags_one_hot, epochs=10, batch_size=32)\n",
    "\n",
    "# Evaluate the model on the test data\n",
    "test_ner_tags_one_hot = tf.keras.utils.to_categorical(test_ner_tags_padded, num_classes=len(unique_ner_tags))\n",
    "test_loss, test_accuracy = model.evaluate(test_sequences, test_ner_tags_one_hot)\n",
    "\n",
    "print(f\"Test Loss: {test_loss}\")\n",
    "print(f\"Test Accuracy: {test_accuracy}\")"
   ]
  },
  {
   "cell_type": "code",
   "execution_count": 4,
   "metadata": {
    "colab": {
     "base_uri": "https://localhost:8080/",
     "height": 944
    },
    "executionInfo": {
     "elapsed": 4290,
     "status": "ok",
     "timestamp": 1714015130883,
     "user": {
      "displayName": "Mohit Singh",
      "userId": "05182115082633421780"
     },
     "user_tz": -60
    },
    "id": "cjJe9QhyHmMO",
    "outputId": "c0f221d9-39b0-4e89-a675-4b5e3eea4ddb"
   },
   "outputs": [
    {
     "name": "stdout",
     "output_type": "stream",
     "text": [
      "\u001b[1m5/5\u001b[0m \u001b[32m━━━━━━━━━━━━━━━━━━━━\u001b[0m\u001b[37m\u001b[0m \u001b[1m5s\u001b[0m 595ms/step\n"
     ]
    },
    {
     "data": {
      "image/png": "[encoded data removed]",
      "text/plain": [
       "<Figure size 720x576 with 2 Axes>"
      ]
     },
     "metadata": {
      "needs_background": "light"
     },
     "output_type": "display_data"
    },
    {
     "name": "stdout",
     "output_type": "stream",
     "text": [
      "Test Classification Report:\n",
      "              precision    recall  f1-score   support\n",
      "\n",
      "        B-LF       0.98      1.00      0.99     44569\n",
      "        I-LF       0.34      0.23      0.28       288\n",
      "        B-AC       0.24      0.11      0.16       270\n",
      "         B-O       0.89      0.80      0.84      4292\n",
      "\n",
      "    accuracy                           0.97     49419\n",
      "   macro avg       0.61      0.54      0.57     49419\n",
      "weighted avg       0.97      0.97      0.97     49419\n",
      "\n"
     ]
    }
   ],
   "source": [
    "# Predict NER tags for test data\n",
    "test_predicted = model.predict(test_sequences)\n",
    "\n",
    "# Convert test predictions and true labels back to categorical values\n",
    "test_predicted_labels = np.argmax(test_predicted, axis=-1)\n",
    "test_true_labels = test_ner_tags_padded\n",
    "\n",
    "# Flatten the test arrays\n",
    "test_predicted_labels_flat = test_predicted_labels.flatten()\n",
    "test_true_labels_flat = test_true_labels.flatten()\n",
    "\n",
    "# Create test confusion matrix\n",
    "test_cm = confusion_matrix(test_true_labels_flat, test_predicted_labels_flat)\n",
    "\n",
    "# Plot test confusion matrix\n",
    "plt.figure(figsize=(10, 8))\n",
    "sns.heatmap(test_cm, annot=True, fmt='d', cmap='Blues', xticklabels=unique_ner_tags, yticklabels=unique_ner_tags)\n",
    "plt.xlabel('Predicted')\n",
    "plt.ylabel('True')\n",
    "plt.title('Test Confusion Matrix')\n",
    "plt.show()\n",
    "\n",
    "# Test Classification Report\n",
    "print(\"Test Classification Report:\")\n",
    "print(classification_report(test_true_labels_flat, test_predicted_labels_flat, target_names=unique_ner_tags))\n"
   ]
  },
  {
   "cell_type": "code",
   "execution_count": 5,
   "metadata": {
    "colab": {
     "base_uri": "https://localhost:8080/",
     "height": 718
    },
    "executionInfo": {
     "elapsed": 1446,
     "status": "ok",
     "timestamp": 1714016078674,
     "user": {
      "displayName": "Mohit Singh",
      "userId": "05182115082633421780"
     },
     "user_tz": -60
    },
    "id": "7ZOvDRPtQ0EK",
    "outputId": "0b6b151f-5df7-4f32-c878-f948c8536185"
   },
   "outputs": [
    {
     "data": {
      "image/png": "[encoded data removed]",
      "text/plain": [
       "<Figure size 720x576 with 2 Axes>"
      ]
     },
     "metadata": {
      "needs_background": "light"
     },
     "output_type": "display_data"
    }
   ],
   "source": [
    "# Plot test confusion matrix\n",
    "plt.figure(figsize=(10, 8))\n",
    "sns.heatmap(test_cm, annot=True, fmt='d', cmap='Blues', xticklabels=unique_ner_tags, yticklabels=unique_ner_tags)\n",
    "plt.xlabel('Predicted')\n",
    "plt.ylabel('True')\n",
    "plt.title('Test Confusion Matrix')\n",
    "plt.show()"
   ]
  },
  {
   "cell_type": "markdown",
   "metadata": {},
   "source": [
    "## RNN with albert"
   ]
  },
  {
   "cell_type": "code",
   "execution_count": 6,
   "metadata": {
    "id": "Ns4TQptIRm8c"
   },
   "outputs": [
    {
     "name": "stderr",
     "output_type": "stream",
     "text": [
      "/user/HS400/ms04010/.local/lib/python3.10/site-packages/transformers/utils/generic.py:441: UserWarning: torch.utils._pytree._register_pytree_node is deprecated. Please use torch.utils._pytree.register_pytree_node instead.\n",
      "  _torch_pytree._register_pytree_node(\n"
     ]
    }
   ],
   "source": [
    "from transformers import AlbertTokenizer\n",
    "from datasets import load_dataset\n",
    "from torch.utils.data import DataLoader\n",
    "import torch\n",
    "\n",
    "# Load dataset\n",
    "dataset = load_dataset(\"surrey-nlp/PLOD-CW\")\n",
    "train_data = dataset[\"train\"]\n",
    "test_data = dataset[\"test\"]\n",
    "\n",
    "# Initialize tokenizer\n",
    "tokenizer = AlbertTokenizer.from_pretrained('albert-base-v2')\n",
    "\n",
    "# Map pos_tags and ner_tags to indices\n",
    "pos_tag_vocab = {tag: idx for idx, tag in enumerate(sorted(set(sum(train_data['pos_tags'], []))))}\n",
    "ner_tag_vocab = {tag: idx for idx, tag in enumerate(sorted(set(sum(train_data['ner_tags'], []))))}\n",
    "\n",
    "def encode(examples):\n",
    "    tokenized_inputs = tokenizer(examples['tokens'], is_split_into_words=True, truncation=True, padding='max_length', max_length=128)\n",
    "    max_len = 128\n",
    "    # Convert and pad ner_tags and pos_tags\n",
    "    tokenized_inputs['ner_tags'] = [[ner_tag_vocab[tag] for tag in tags] + [-100] * (max_len - len(tags)) for tags in examples['ner_tags']]\n",
    "    tokenized_inputs['pos_tags'] = [[pos_tag_vocab[tag] for tag in tags] + [-100] * (max_len - len(tags)) for tags in examples['pos_tags']]\n",
    "    return tokenized_inputs\n"
   ]
  },
  {
   "cell_type": "code",
   "execution_count": 7,
   "metadata": {},
   "outputs": [],
   "source": [
    "# Apply the function and prepare datasets\n",
    "train_data = train_data.map(encode, batched=True)\n",
    "test_data = test_data.map(encode, batched=True)\n",
    "\n",
    "train_data.set_format(type='torch', columns=['input_ids', 'attention_mask', 'ner_tags', 'pos_tags'])\n",
    "test_data.set_format(type='torch', columns=['input_ids', 'attention_mask', 'ner_tags', 'pos_tags'])\n",
    "\n",
    "# DataLoaders\n",
    "train_loader = DataLoader(train_data, batch_size=16, shuffle=True)\n",
    "test_loader = DataLoader(test_data, batch_size=16, shuffle=False)"
   ]
  },
  {
   "cell_type": "code",
   "execution_count": 8,
   "metadata": {},
   "outputs": [
    {
     "name": "stderr",
     "output_type": "stream",
     "text": [
      "/user/HS400/ms04010/.local/lib/python3.10/site-packages/transformers/utils/generic.py:309: UserWarning: torch.utils._pytree._register_pytree_node is deprecated. Please use torch.utils._pytree.register_pytree_node instead.\n",
      "  _torch_pytree._register_pytree_node(\n",
      "/user/HS400/ms04010/.local/lib/python3.10/site-packages/transformers/utils/generic.py:309: UserWarning: torch.utils._pytree._register_pytree_node is deprecated. Please use torch.utils._pytree.register_pytree_node instead.\n",
      "  _torch_pytree._register_pytree_node(\n"
     ]
    }
   ],
   "source": [
    "import torch\n",
    "from torch import nn\n",
    "from transformers import AlbertModel\n",
    "\n",
    "# Model definition\n",
    "class AlbertRNN(nn.Module):\n",
    "    def __init__(self, num_pos_tags, num_ner_tags):\n",
    "        super(AlbertRNN, self).__init__()\n",
    "        self.albert = AlbertModel.from_pretrained('albert-base-v2')\n",
    "        self.rnn = nn.GRU(input_size=768, hidden_size=256, num_layers=2, batch_first=True, bidirectional=True)\n",
    "        self.fc_ner = nn.Linear(512, num_ner_tags)\n",
    "        self.fc_pos = nn.Linear(512, num_pos_tags)\n",
    "\n",
    "    def forward(self, input_ids, attention_mask):\n",
    "        encoded_layers = self.albert(input_ids, attention_mask=attention_mask)[0]\n",
    "        rnn_output, _ = self.rnn(encoded_layers)\n",
    "        ner_output = self.fc_ner(rnn_output)\n",
    "        pos_output = self.fc_pos(rnn_output)\n",
    "        return ner_output, pos_output"
   ]
  },
  {
   "cell_type": "code",
   "execution_count": 9,
   "metadata": {},
   "outputs": [],
   "source": [
    "# Instantiate the model\n",
    "num_pos_tags = len(pos_tag_vocab)\n",
    "num_ner_tags = len(ner_tag_vocab)\n",
    "model = AlbertRNN(num_pos_tags, num_ner_tags)\n",
    "\n",
    "# Loss function and optimizer\n",
    "criterion = nn.CrossEntropyLoss(ignore_index=-100)\n",
    "optimizer = torch.optim.Adam(model.parameters(), lr=5e-5)"
   ]
  },
  {
   "cell_type": "code",
   "execution_count": 10,
   "metadata": {},
   "outputs": [],
   "source": [
    "from torch.nn.utils.rnn import pad_sequence\n",
    "\n",
    "def collate_fn(batch):\n",
    "    input_ids = pad_sequence([item['input_ids'] for item in batch], batch_first=True, padding_value=tokenizer.pad_token_id)\n",
    "    attention_mask = pad_sequence([item['attention_mask'] for item in batch], batch_first=True, padding_value=0)\n",
    "\n",
    "    # Padding ner_tags and pos_tags to the maximum length in the batch\n",
    "    ner_tags = pad_sequence([torch.tensor(item['ner_tags']) for item in batch], batch_first=True, padding_value=-100)\n",
    "    pos_tags = pad_sequence([torch.tensor(item['pos_tags']) for item in batch], batch_first=True, padding_value=-100)\n",
    "\n",
    "    return {'input_ids': input_ids, 'attention_mask': attention_mask, 'ner_tags': ner_tags, 'pos_tags': pos_tags}\n",
    "\n",
    "# Update DataLoader with the custom collate function\n",
    "train_loader = DataLoader(train_data, batch_size=16, shuffle=True, collate_fn=collate_fn)\n",
    "test_loader = DataLoader(test_data, batch_size=16, shuffle=False, collate_fn=collate_fn)\n"
   ]
  },
  {
   "cell_type": "code",
   "execution_count": 11,
   "metadata": {},
   "outputs": [],
   "source": [
    "def train(model, train_loader, optimizer, criterion, num_epochs=5):\n",
    "    model.train()\n",
    "    for epoch in range(num_epochs):\n",
    "        total_loss = 0\n",
    "        for batch in train_loader:\n",
    "            input_ids, attention_mask, ner_tags, pos_tags = batch['input_ids'], batch['attention_mask'], batch['ner_tags'], batch['pos_tags']\n",
    "            optimizer.zero_grad()\n",
    "            ner_output, pos_output = model(input_ids, attention_mask)\n",
    "\n",
    "            # Flatten the outputs and labels\n",
    "            ner_output = ner_output.view(-1, ner_output.shape[-1])  # Shape: (batch_size * sequence_length, num_ner_tags)\n",
    "            pos_output = pos_output.view(-1, pos_output.shape[-1])  # Shape: (batch_size * sequence_length, num_pos_tags)\n",
    "            ner_tags = ner_tags.view(-1)  # Shape: (batch_size * sequence_length)\n",
    "            pos_tags = pos_tags.view(-1)  # Shape: (batch_size * sequence_length)\n",
    "\n",
    "            # Calculate losses and sum them\n",
    "            ner_loss = criterion(ner_output, ner_tags)\n",
    "            pos_loss = criterion(pos_output, pos_tags)\n",
    "            loss = ner_loss + pos_loss\n",
    "            loss.backward()\n",
    "            optimizer.step()\n",
    "            total_loss += loss.item()\n",
    "        print(f'Epoch {epoch+1}/{num_epochs}, Loss: {total_loss/len(train_loader)}')"
   ]
  },
  {
   "cell_type": "code",
   "execution_count": 12,
   "metadata": {},
   "outputs": [
    {
     "name": "stderr",
     "output_type": "stream",
     "text": [
      "/tmp/ipykernel_533599/1977488790.py:8: UserWarning: To copy construct from a tensor, it is recommended to use sourceTensor.clone().detach() or sourceTensor.clone().detach().requires_grad_(True), rather than torch.tensor(sourceTensor).\n",
      "  ner_tags = pad_sequence([torch.tensor(item['ner_tags']) for item in batch], batch_first=True, padding_value=-100)\n",
      "/tmp/ipykernel_533599/1977488790.py:9: UserWarning: To copy construct from a tensor, it is recommended to use sourceTensor.clone().detach() or sourceTensor.clone().detach().requires_grad_(True), rather than torch.tensor(sourceTensor).\n",
      "  pos_tags = pad_sequence([torch.tensor(item['pos_tags']) for item in batch], batch_first=True, padding_value=-100)\n"
     ]
    },
    {
     "data": {
      "image/png": "[encoded data removed]",
      "text/plain": [
       "<Figure size 720x720 with 2 Axes>"
      ]
     },
     "metadata": {
      "needs_background": "light"
     },
     "output_type": "display_data"
    }
   ],
   "source": [
    "import torch\n",
    "import numpy as np\n",
    "from sklearn.metrics import confusion_matrix\n",
    "import matplotlib.pyplot as plt\n",
    "import seaborn as sns\n",
    "\n",
    "def evaluate_model(model, data_loader):\n",
    "    model.eval()\n",
    "    all_preds = []\n",
    "    all_true = []\n",
    "    with torch.no_grad():\n",
    "        for batch in data_loader:\n",
    "            input_ids, attention_mask, ner_tags, pos_tags = batch['input_ids'], batch['attention_mask'], batch['ner_tags'], batch['pos_tags']\n",
    "            ner_output, pos_output = model(input_ids, attention_mask)\n",
    "            ner_preds = torch.argmax(ner_output, dim=-1).view(-1)  # Flatten output\n",
    "            ner_tags = ner_tags.view(-1)  # Flatten true labels\n",
    "\n",
    "            # Filter out padding values\n",
    "            mask = ner_tags != -100\n",
    "            ner_preds = ner_preds[mask]\n",
    "            ner_tags = ner_tags[mask]\n",
    "\n",
    "            all_preds.extend(ner_preds.tolist())\n",
    "            all_true.extend(ner_tags.tolist())\n",
    "\n",
    "    return all_true, all_preds\n",
    "\n",
    "# Collect all predictions and true values\n",
    "true_labels, predictions = evaluate_model(model, test_loader)\n",
    "\n",
    "# Generate confusion matrix\n",
    "cm = confusion_matrix(true_labels, predictions)\n",
    "\n",
    "# Plotting\n",
    "plt.figure(figsize=(10,10))\n",
    "sns.heatmap(cm, annot=True, fmt='d', cmap='Blues', xticklabels=list(ner_tag_vocab.keys()), yticklabels=list(ner_tag_vocab.keys()))\n",
    "plt.ylabel('Actual')\n",
    "plt.xlabel('Predicted')\n",
    "plt.title('Confusion Matrix')\n",
    "plt.show()\n"
   ]
  },
  {
   "cell_type": "code",
   "execution_count": 13,
   "metadata": {},
   "outputs": [
    {
     "data": {
      "image/png": "[encoded data removed]",
      "text/plain": [
       "<Figure size 432x288 with 2 Axes>"
      ]
     },
     "metadata": {
      "needs_background": "light"
     },
     "output_type": "display_data"
    }
   ],
   "source": [
    "from sklearn.metrics import classification_report\n",
    "import seaborn as sns\n",
    "import pandas as pd\n",
    "import matplotlib.pyplot as plt\n",
    "\n",
    "# Assuming true_labels and predictions have been collected from the model\n",
    "report = classification_report(true_labels, predictions, target_names=list(ner_tag_vocab.keys()), output_dict=True)\n",
    "sns.heatmap(pd.DataFrame(report).iloc[:-1, :].T, annot=True)\n",
    "plt.show()\n"
   ]
  },
  {
   "cell_type": "code",
   "execution_count": null,
   "metadata": {},
   "outputs": [],
   "source": []
  }
 ],
 "metadata": {
  "colab": {
   "authorship_tag": "ABX9TyPx3ZC+kUR9ryCi3vF5FmAV",
   "provenance": []
  },
  "kernelspec": {
   "display_name": "Python 3 (ipykernel)",
   "language": "python",
   "name": "python3"
  },
  "language_info": {
   "codemirror_mode": {
    "name": "ipython",
    "version": 3
   },
   "file_extension": ".py",
   "mimetype": "text/x-python",
   "name": "python",
   "nbconvert_exporter": "python",
   "pygments_lexer": "ipython3",
   "version": "3.11.7"
  }
 },
 "nbformat": 4,
 "nbformat_minor": 4
}
